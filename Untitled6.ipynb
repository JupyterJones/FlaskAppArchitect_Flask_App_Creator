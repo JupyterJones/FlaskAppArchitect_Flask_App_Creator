{
 "cells": [
  {
   "cell_type": "code",
   "execution_count": null,
   "id": "53c68f01",
   "metadata": {},
   "outputs": [],
   "source": [
    "hair_colors = ['black hair', 'brown hair', 'blonde hair', 'red hair', 'brunette hair', 'gray hair', 'white hair', 'auburn hair', 'silver hair', 'blue hair']\n"
   ]
  },
  {
   "cell_type": "code",
   "execution_count": null,
   "id": "36ccf0fa",
   "metadata": {},
   "outputs": [],
   "source": [
    "hair = ['redhead', 'blonde hair', 'brown hair', 'black hair', 'green hair', 'blue hair', 'brown and blonde streaked hair', 'trait8', 'trait9', 'trait10']"
   ]
  },
  {
   "cell_type": "code",
   "execution_count": 7,
   "id": "21f7ac28",
   "metadata": {},
   "outputs": [
    {
     "data": {
      "text/plain": [
       "'red hair'"
      ]
     },
     "execution_count": 7,
     "metadata": {},
     "output_type": "execute_result"
    }
   ],
   "source": [
    "import random\n",
    "\n",
    "hair_colors = ['auburn hair','black hair', 'brown hair', 'blonde hair', 'red hair', 'brunette hair', 'gray hair', 'white hair', 'silver hair', 'blue hair']\n",
    "probabilities = [0.2, 0.1, 0.1, 0.1, 0.1, 0.1, 0.1, 0.1, 0.1, 0.1]\n",
    "\n",
    "selected_trait = random.choices(hair_colors, probabilities)[0]\n",
    "selected_trait"
   ]
  },
  {
   "cell_type": "code",
   "execution_count": 9,
   "id": "320e3b14",
   "metadata": {},
   "outputs": [
    {
     "name": "stdout",
     "output_type": "stream",
     "text": [
      "red hair\n",
      "black hair\n",
      "brunette hair\n",
      "auburn hair\n",
      "red hair\n",
      "black hair\n",
      "gray hair\n",
      "red hair\n",
      "auburn hair\n",
      "blonde hair\n",
      "brunette hair\n",
      "silver hair\n",
      "white hair\n",
      "blonde hair\n",
      "gray hair\n",
      "auburn hair\n",
      "brown hair\n",
      "blonde hair\n",
      "auburn hair\n",
      "silver hair\n",
      "red hair\n",
      "blue hair\n",
      "brunette hair\n",
      "brown hair\n",
      "silver hair\n",
      "red hair\n",
      "black hair\n",
      "auburn hair\n",
      "red hair\n",
      "gray hair\n"
     ]
    }
   ],
   "source": [
    "for i in range(0,30):\n",
    "    selected_trait = random.choices(hair_colors, probabilities)[0]\n",
    "    print(selected_trait)"
   ]
  },
  {
   "cell_type": "code",
   "execution_count": 10,
   "id": "02d1461d",
   "metadata": {},
   "outputs": [
    {
     "ename": "ModuleNotFoundError",
     "evalue": "No module named 'server'",
     "output_type": "error",
     "traceback": [
      "\u001b[0;31m---------------------------------------------------------------------------\u001b[0m",
      "\u001b[0;31mModuleNotFoundError\u001b[0m                       Traceback (most recent call last)",
      "Cell \u001b[0;32mIn[10], line 6\u001b[0m\n\u001b[1;32m      4\u001b[0m \u001b[38;5;28;01mfrom\u001b[39;00m \u001b[38;5;21;01mflask\u001b[39;00m \u001b[38;5;28;01mimport\u001b[39;00m request, Response, stream_with_context\n\u001b[1;32m      5\u001b[0m \u001b[38;5;28;01mfrom\u001b[39;00m \u001b[38;5;21;01mrequests\u001b[39;00m \u001b[38;5;28;01mimport\u001b[39;00m get\n\u001b[0;32m----> 6\u001b[0m \u001b[38;5;28;01mfrom\u001b[39;00m \u001b[38;5;21;01mserver\u001b[39;00m\u001b[38;5;21;01m.\u001b[39;00m\u001b[38;5;21;01mconfig\u001b[39;00m \u001b[38;5;28;01mimport\u001b[39;00m special_instructions\n\u001b[1;32m      7\u001b[0m \u001b[38;5;28;01mimport\u001b[39;00m \u001b[38;5;21;01mlogging\u001b[39;00m\n\u001b[1;32m      8\u001b[0m \u001b[38;5;28;01mimport\u001b[39;00m \u001b[38;5;21;01mjson\u001b[39;00m\n",
      "\u001b[0;31mModuleNotFoundError\u001b[0m: No module named 'server'"
     ]
    }
   ],
   "source": [
    "import re\n",
    "from datetime import datetime\n",
    "from g4f import ChatCompletion\n",
    "from flask import request, Response, stream_with_context\n",
    "from requests import get\n",
    "from server.config import special_instructions\n",
    "import logging\n",
    "import json"
   ]
  },
  {
   "cell_type": "code",
   "execution_count": 12,
   "id": "22c2c96b",
   "metadata": {},
   "outputs": [
    {
     "data": {
      "text/plain": [
       "[{'role': 'system',\n",
       "  'content': 'Here are some updated web searches. Use this to improve user response:[1] \"Grand Rapids is a city and county seat of Kent County in the U.S. state of Michigan. [4] At the 2020 census, the city had a population of 198,893 [5] which ranks it as the second most-populated city in the state after Detroit.\" URL:https://en.wikipedia.org/wiki/Grand_Rapids,_Michigan.[2] \"It\\'s the most dazzling time of the year in Grand Rapids, as the world\\'s most visited art event once again takes over the streets, sidewalks, bridges, parks and buildings of the city\\'s downtown. Visit ArtPrize ® (Sept. 14-Oct. 1) to see 650+ works of art from international artists and vote for your favorites to win $200,000 in prize money.\" URL:https://www.michigan.org/city/grand-rapids.[3] \"Michigan (MI) Kent County Grand Rapids Things to Do in Grand Rapids Things to Do in Grand Rapids, MI - Grand Rapids Attractions Things to Do in Grand Rapids Popular things to do Self-guided Tours Airport & Hotel Transfers Theaters Food, Wine & Nightlife Ways to tour Grand Rapids Book these experiences for a close-up look at Grand Rapids. See all\" URL:https://www.tripadvisor.com/Attractions-g42256-Activities-Grand_Rapids_Kent_County_Michigan.html.'}]"
      ]
     },
     "execution_count": 12,
     "metadata": {},
     "output_type": "execute_result"
    }
   ],
   "source": [
    "from flask import request, Response\n",
    "from requests import get\n",
    "\n",
    "def fetch_search_results(query):\n",
    "    \"\"\"  \n",
    "    Fetch search results for a given query.  \n",
    "\n",
    "    :param query: Search query string  \n",
    "    :return: List of search results  \n",
    "    \"\"\"\n",
    "    search = get('https://ddg-api.herokuapp.com/search',\n",
    "                 params={\n",
    "                     'query': query,\n",
    "                     'limit': 3,\n",
    "                 })\n",
    "\n",
    "    snippets = \"\"\n",
    "    for index, result in enumerate(search.json()):\n",
    "        snippet = f'[{index + 1}] \"{result[\"snippet\"]}\" URL:{result[\"link\"]}.'\n",
    "        snippets += snippet\n",
    "\n",
    "    response = \"Here are some updated web searches. Use this to improve user response:\"\n",
    "    response += snippets\n",
    "\n",
    "    return [{'role': 'system', 'content': response}]      \n",
    "#----------------- \n",
    "query= \" where is Grand Rapids\"\n",
    "info = fetch_search_results(query) \n",
    "info"
   ]
  },
  {
   "cell_type": "code",
   "execution_count": 23,
   "id": "87fee185",
   "metadata": {},
   "outputs": [
    {
     "name": "stdout",
     "output_type": "stream",
     "text": [
      "Query: video How to make a flask app?\n",
      "Info Saved\n"
     ]
    },
    {
     "data": {
      "text/plain": [
       "[{'role': 'system',\n",
       "  'content': 'Here are some updated web searches. Use this to improve user response:[1] \"Join. Subscribe. 28K. Share. 1.7M views 5 years ago Flask Tutorials. In this Python Flask Tutorial, we will be learning how to get started using the Flask framework. We will install the...\" URL:https://www.youtube.com/watch?v=MwZwr5Tvyxo.[2] \"Step 1 — Installing Flask. In this step, you\\'ll activate your Python environment and install Flask using the pip package installer. If you haven\\'t already activated your programming environment, make sure you\\'re in your project directory ( flask_blog) and use the following command to activate the environment: source env /bin/activate.\" URL:https://www.digitalocean.com/community/tutorials/how-to-make-a-web-application-using-flask-in-python-3.[3] \"Intro. How to create a Simple Flask app in just 5 minutes | Python Flask Tutorial for beginners. S3CloudHub. 25.6K subscribers. Subscribe. 5K views 5 months ago #Python #Flask...\" URL:https://www.youtube.com/watch?v=6M3LzGmIAso.'}]"
      ]
     },
     "execution_count": 23,
     "metadata": {},
     "output_type": "execute_result"
    }
   ],
   "source": [
    "from flask import request, Response\n",
    "from requests import get\n",
    "import json\n",
    "def save_messages(info):\n",
    "        \"\"\"\n",
    "        Save the messages to a file.\n",
    "        :param messages: List of messages\n",
    "        :param conversation_id: Conversation ID\n",
    "        \"\"\"\n",
    "        filename = \"info.json\"\n",
    "        with open(filename, 'a') as file:\n",
    "            json.dump(info, file)\n",
    "        return print(\"Info Saved\")  \n",
    "def fetch_search_results(query):\n",
    "    \"\"\"  \n",
    "    Fetch search results for a given query.  \n",
    "\n",
    "    :param query: Search query string  \n",
    "    :return: List of search results  \n",
    "    \"\"\"\n",
    "    search = get('https://ddg-api.herokuapp.com/search',\n",
    "                 params={\n",
    "                     'query': query,\n",
    "                     'limit': 3,\n",
    "                 })\n",
    "\n",
    "    snippets = \"\"\n",
    "    for index, result in enumerate(search.json()):\n",
    "        snippet = f'[{index + 1}] \"{result[\"snippet\"]}\" URL:{result[\"link\"]}.'\n",
    "        snippets += snippet\n",
    "\n",
    "    response = \"Here are some updated web searches. Use this to improve user response:\"\n",
    "    response += snippets\n",
    "\n",
    "    return [{'role': 'system', 'content': response}]      \n",
    "#----------------- \n",
    "query= input(\"Query: \")\n",
    "info = fetch_search_results(query) \n",
    "save_messages(info)\n",
    "info"
   ]
  },
  {
   "cell_type": "code",
   "execution_count": 18,
   "id": "d9bf507c",
   "metadata": {},
   "outputs": [],
   "source": [
    "import json\n",
    "def save_messages(info):\n",
    "        \"\"\"\n",
    "        Save the messages to a file.\n",
    "        :param messages: List of messages\n",
    "        :param conversation_id: Conversation ID\n",
    "        \"\"\"\n",
    "        filename = \"info.json\"\n",
    "        with open(filename, 'a') as file:\n",
    "            json.dump(info, file)\n",
    "        return print(\"Info Saved\")    "
   ]
  },
  {
   "cell_type": "code",
   "execution_count": 19,
   "id": "012b24a5",
   "metadata": {},
   "outputs": [
    {
     "name": "stdout",
     "output_type": "stream",
     "text": [
      "Info Saved\n"
     ]
    }
   ],
   "source": [
    "save_messages(info)"
   ]
  },
  {
   "cell_type": "code",
   "execution_count": null,
   "id": "b255412f",
   "metadata": {},
   "outputs": [],
   "source": [
    "# %load info.json\n",
    "[{\"role\": \"system\", \"content\": \"Here are some updated web searches. Use this to improve user response:[1] \\\"Grand Rapids is a city and county seat of Kent County in the U.S. state of Michigan. [4] At the 2020 census, the city had a population of 198,893 [5] which ranks it as the second most-populated city in the state after Detroit.\\\" URL:https://en.wikipedia.org/wiki/Grand_Rapids,_Michigan.[2] \\\"It's the most dazzling time of the year in Grand Rapids, as the world's most visited art event once again takes over the streets, sidewalks, bridges, parks and buildings of the city's downtown. Visit ArtPrize \\u00ae (Sept. 14-Oct. 1) to see 650+ works of art from international artists and vote for your favorites to win $200,000 in prize money.\\\" URL:https://www.michigan.org/city/grand-rapids.[3] \\\"Michigan (MI) Kent County Grand Rapids Things to Do in Grand Rapids Things to Do in Grand Rapids, MI - Grand Rapids Attractions Things to Do in Grand Rapids Popular things to do Self-guided Tours Airport & Hotel Transfers Theaters Food, Wine & Nightlife Ways to tour Grand Rapids Book these experiences for a close-up look at Grand Rapids. See all\\\" URL:https://www.tripadvisor.com/Attractions-g42256-Activities-Grand_Rapids_Kent_County_Michigan.html.\"}][{\"role\": \"system\", \"content\": \"Here are some updated web searches. Use this to improve user response:[1] \\\"FlaskAppArchitect a Self Editing Flask App Creator. Totally Insane Art. 1.03K subscribers. No views 1 minute ago. FlaskAppArchitect a Self Editing Flask App Creator FlaskAppArchitect was...\\\" URL:https://www.youtube.com/watch?v=QsXZbWrHDPo.[2] \\\"FlaskAppArchitect Flask App Creator | YouTube Video Maker #flask #art #aiimages #flaskappJoin us on an exciting journey as we build a powerful Flask web appl...\\\" URL:https://www.youtube.com/watch?v=oENOrJx8z-g.[3] \\\"FlaskAppArchitect with JavaScript Short #flask #javascript #flaskapp Join us on an exciting journey as we build a powerful Flask web application step by step, with the guidance of ChatGPT AI....\\\" URL:https://www.youtube.com/watch?v=_dMFoFzYO-w.\"}]"
   ]
  },
  {
   "cell_type": "code",
   "execution_count": null,
   "id": "6f6f677a",
   "metadata": {},
   "outputs": [],
   "source": []
  }
 ],
 "metadata": {
  "kernelspec": {
   "display_name": "cloned-base",
   "language": "python",
   "name": "cloned-base"
  },
  "language_info": {
   "codemirror_mode": {
    "name": "ipython",
    "version": 3
   },
   "file_extension": ".py",
   "mimetype": "text/x-python",
   "name": "python",
   "nbconvert_exporter": "python",
   "pygments_lexer": "ipython3",
   "version": "3.9.12"
  }
 },
 "nbformat": 4,
 "nbformat_minor": 5
}
