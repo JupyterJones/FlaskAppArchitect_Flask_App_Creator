{
 "cells": [
  {
   "cell_type": "code",
   "execution_count": 2,
   "id": "61f1c519",
   "metadata": {},
   "outputs": [
    {
     "name": "stdout",
     "output_type": "stream",
     "text": [
      "index.html  Untitled.ipynb\r\n"
     ]
    }
   ],
   "source": [
    "!ls"
   ]
  },
  {
   "cell_type": "code",
   "execution_count": 5,
   "id": "883c7d1f",
   "metadata": {},
   "outputs": [
    {
     "name": "stdout",
     "output_type": "stream",
     "text": [
      "Overwriting index.html\n"
     ]
    }
   ],
   "source": [
    "%%writefile index.html\n",
    "<!DOCTYPE html>\n",
    "<html>\n",
    "  <head>\n",
    "    <title>My Flask App</title>\n",
    "    </head>\n",
    "  <body>\n",
    "  <p>Below is a random image from the gallery.</p>\n",
    "  <img style=\"width: 92%; height: auto;\" src=\"{{ url_for('static', filename='images/' + random_image_file) }}\" alt=\"Example image\"><br />\n",
    "  <img src=\"{{ url_for('static', filename='images/image2.jpg') }}\" alt=\"Example image\">\n",
    "  <footer class=\"footer\">\n",
    "    <h2 style=\"color: brown;\">Links to YouTube Channels</h2>\n",
    "    <a href=\"https://www.youtube.com/@totallyinsaneart3345\" target=\"_blank \">Totally Insane Art</a><br />\n",
    "    <a href=\"https://www.youtube.com/@JackNorthrup\" target=\"_blank \">Jack Northrup</a><br />\n",
    "    <a href=\"https://app.prodia.com/#/\" target=\"_blank \">prodia</a><br />\n",
    "    <a href=\"https://app.leonardo.ai/\" target=\"_blank \">leonardo.ai</a><br />\n",
    "  </footer>\n",
    "</div>\n",
    "\n",
    "  </body>\n",
    "  </html>\n"
   ]
  },
  {
   "cell_type": "code",
   "execution_count": null,
   "id": "7ed90de8",
   "metadata": {},
   "outputs": [],
   "source": []
  }
 ],
 "metadata": {
  "kernelspec": {
   "display_name": "venv",
   "language": "python",
   "name": "venv"
  },
  "language_info": {
   "codemirror_mode": {
    "name": "ipython",
    "version": 3
   },
   "file_extension": ".py",
   "mimetype": "text/x-python",
   "name": "python",
   "nbconvert_exporter": "python",
   "pygments_lexer": "ipython3",
   "version": "3.8.10"
  }
 },
 "nbformat": 4,
 "nbformat_minor": 5
}
