{
 "cells": [
  {
   "cell_type": "code",
   "execution_count": null,
   "id": "ce20013a",
   "metadata": {},
   "outputs": [],
   "source": [
    "I asked ChatGPT:\n",
    "    How do I install a my flask_env notebook kernel in my existing jupyter notebook\n",
    "\n",
    "Sure, Jack! To install a Jupyter notebook kernel within your flask_env virtual environment so that you can use it in Jupyter Notebook, follow these steps:\n",
    "\n",
    "    Activate the Virtual Environment:\n",
    "    Open your terminal and navigate to the directory where your flask_env is located. Then, activate the virtual environment using the appropriate command. Since you're using Linux, the command should be:\n",
    "\n",
    "Teminal command:\n",
    "source flask_env/bin/activate\n",
    "\n",
    "Install IPython:\n",
    "IPython is required for Jupyter to function properly. While your virtual environment is active, install IPython using pip:\n",
    "\n",
    "pip install ipython\n",
    "\n",
    "I could kip this I already have jupyter notebook\n",
    "if you install jupyter notebook in different envs it can break the install.\n",
    "so, if you already jupyter notebook DO NOT:\n",
    "pip install jupyter\n",
    "\n",
    " \n",
    "if you already have jupyter notebook installed:\n",
    "Within your activated virtual environment, install an ipykernel.\n",
    "pip install ipykernel        \n",
    "Now, within your activated virtual environment, install a Jupyter kernel that's associated with the virtual environment. This allows you to select the environment as a kernel in Jupyter Notebook:\n",
    "\n",
    "ipython kernel install --user --name=flask_env\n",
    "\n",
    "Start Jupyter Notebook:\n",
    "    \n",
    "Again ! If you have jupyter notebook already installed, deactivate this environment.\n",
    "source deactivate.\n",
    "\n",
    "Then Jupyter Notebook from the envionment it was originally installed by simply typing:\n",
    "jupyter notebook\n",
    "\n",
    "    Select the Flask Environment Kernel:\n",
    "    When you create or open a notebook in Jupyter, you'll be able to choose the flask_env kernel from the kernel dropdown menu. This way, the notebook will run in the context of your virtual environment.\n",
    "\n",
    "ONLY IF THIS IS THE ONLY ENVIRONMENT THAT HAS JUPYTER NOTEBOOK INSTALLED:\n",
    "    Each time you want to use Jupyter Notebook with your flask_env environment, you need to activate the environment first using the source command from step 1.\n",
    "\n",
    "If you encounter any issues during this process, feel free to ask for assistance, Jack. Happy coding!"
   ]
  },
  {
   "cell_type": "code",
   "execution_count": null,
   "id": "4a90d7e7",
   "metadata": {},
   "outputs": [],
   "source": [
    "Now I have A notebook Using my flask_env"
   ]
  }
 ],
 "metadata": {
  "kernelspec": {
   "display_name": "flask_env",
   "language": "python",
   "name": "flask_env"
  },
  "language_info": {
   "codemirror_mode": {
    "name": "ipython",
    "version": 3
   },
   "file_extension": ".py",
   "mimetype": "text/x-python",
   "name": "python",
   "nbconvert_exporter": "python",
   "pygments_lexer": "ipython3",
   "version": "3.8.10"
  }
 },
 "nbformat": 4,
 "nbformat_minor": 5
}
