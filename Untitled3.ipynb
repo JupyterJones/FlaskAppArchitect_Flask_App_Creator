{
 "cells": [
  {
   "cell_type": "code",
   "execution_count": 5,
   "id": "c8840cb7",
   "metadata": {},
   "outputs": [
    {
     "name": "stdout",
     "output_type": "stream",
     "text": [
      "Writing /home/jack/Desktop/FlaskAppArchitect_Flask_App_Creator/env/lib/python3.8/site-packages/YouTube_key.py\n"
     ]
    }
   ],
   "source": [
    "%%writefile /home/jack/Desktop/FlaskAppArchitect_Flask_App_Creator/env/lib/python3.8/site-packages/YouTube_key.py\n",
    "#YouTube_key.py\n",
    "def YouTube_key():\n",
    "    key =\"6ev6-agr6-kd93-ac8s-5q35\"\n",
    "    return key"
   ]
  },
  {
   "cell_type": "code",
   "execution_count": 2,
   "id": "feee1e17",
   "metadata": {},
   "outputs": [
    {
     "name": "stdout",
     "output_type": "stream",
     "text": [
      "6ev6-agr6-kd93-ac8s-5q35\n"
     ]
    }
   ],
   "source": [
    "from YouTube_key import YouTube_key\n",
    "print(YouTube_key())"
   ]
  },
  {
   "cell_type": "code",
   "execution_count": 4,
   "id": "1299efb0",
   "metadata": {},
   "outputs": [
    {
     "ename": "AttributeError",
     "evalue": "module 'os' has no attribute 'command'",
     "output_type": "error",
     "traceback": [
      "\u001b[0;31m---------------------------------------------------------------------------\u001b[0m",
      "\u001b[0;31mAttributeError\u001b[0m                            Traceback (most recent call last)",
      "Cell \u001b[0;32mIn[4], line 2\u001b[0m\n\u001b[1;32m      1\u001b[0m \u001b[38;5;28;01mimport\u001b[39;00m \u001b[38;5;21;01mos\u001b[39;00m\n\u001b[0;32m----> 2\u001b[0m \u001b[43mos\u001b[49m\u001b[38;5;241;43m.\u001b[39;49m\u001b[43mcommand\u001b[49m(\u001b[38;5;124m\"\u001b[39m\u001b[38;5;124mls\u001b[39m\u001b[38;5;124m\"\u001b[39m)\n",
      "\u001b[0;31mAttributeError\u001b[0m: module 'os' has no attribute 'command'"
     ]
    }
   ],
   "source": [
    "import os\n",
    "os.command(\"ls\")"
   ]
  },
  {
   "cell_type": "code",
   "execution_count": null,
   "id": "8f53c74c",
   "metadata": {},
   "outputs": [],
   "source": [
    "from YouTube_key import YouTube_key\n",
    "import subprocess\n",
    "key = YouTube_key()\n",
    "#run this command\n",
    "ffmpeg -f pulse -ac 2 -i default -f x11grab -framerate 24 -video_size 1366x760 -i :0.0 -c:v libx264 -preset ultrafast -pix_fmt yuv420p -c:a aac -f flv rtmp://a.rtmp.youtube.com/live2/{key}"
   ]
  }
 ],
 "metadata": {
  "kernelspec": {
   "display_name": "cloned-base",
   "language": "python",
   "name": "cloned-base"
  },
  "language_info": {
   "codemirror_mode": {
    "name": "ipython",
    "version": 3
   },
   "file_extension": ".py",
   "mimetype": "text/x-python",
   "name": "python",
   "nbconvert_exporter": "python",
   "pygments_lexer": "ipython3",
   "version": "3.9.12"
  }
 },
 "nbformat": 4,
 "nbformat_minor": 5
}
